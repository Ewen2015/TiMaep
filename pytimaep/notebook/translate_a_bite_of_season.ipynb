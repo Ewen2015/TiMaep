{
 "cells": [
  {
   "cell_type": "code",
   "execution_count": 2,
   "metadata": {
    "ExecuteTime": {
     "end_time": "2019-05-21T12:10:54.908654Z",
     "start_time": "2019-05-21T12:10:53.164484Z"
    }
   },
   "outputs": [],
   "source": [
    "from translate import Translator\n",
    "\n",
    "translator= Translator(to_lang=\"zh\")\n",
    "translation = translator.translate(\"This is a pen.\")"
   ]
  },
  {
   "cell_type": "code",
   "execution_count": 3,
   "metadata": {
    "ExecuteTime": {
     "end_time": "2019-05-21T12:11:01.228504Z",
     "start_time": "2019-05-21T12:11:01.213953Z"
    }
   },
   "outputs": [
    {
     "data": {
      "text/plain": [
       "'这是一支笔'"
      ]
     },
     "execution_count": 3,
     "metadata": {},
     "output_type": "execute_result"
    }
   ],
   "source": [
    "translation"
   ]
  },
  {
   "cell_type": "code",
   "execution_count": 4,
   "metadata": {
    "ExecuteTime": {
     "end_time": "2019-05-21T12:12:07.362394Z",
     "start_time": "2019-05-21T12:12:07.358781Z"
    }
   },
   "outputs": [],
   "source": [
    "translator = Translator(from_lang='zh', to_lang=\"en\")"
   ]
  },
  {
   "cell_type": "code",
   "execution_count": 5,
   "metadata": {
    "ExecuteTime": {
     "end_time": "2019-05-21T12:12:12.424259Z",
     "start_time": "2019-05-21T12:12:10.688354Z"
    }
   },
   "outputs": [],
   "source": [
    "import pandas as pd"
   ]
  },
  {
   "cell_type": "code",
   "execution_count": 6,
   "metadata": {
    "ExecuteTime": {
     "end_time": "2019-05-21T12:12:13.194734Z",
     "start_time": "2019-05-21T12:12:13.152531Z"
    }
   },
   "outputs": [],
   "source": [
    "bite = pd.read_csv('/Users/ewenwang/Documents/GitHub/TiMaep/data/A_Bite_of_Season.csv')"
   ]
  },
  {
   "cell_type": "code",
   "execution_count": 7,
   "metadata": {
    "ExecuteTime": {
     "end_time": "2019-05-21T12:12:16.076300Z",
     "start_time": "2019-05-21T12:12:16.059414Z"
    }
   },
   "outputs": [
    {
     "data": {
      "text/html": [
       "<div>\n",
       "<style scoped>\n",
       "    .dataframe tbody tr th:only-of-type {\n",
       "        vertical-align: middle;\n",
       "    }\n",
       "\n",
       "    .dataframe tbody tr th {\n",
       "        vertical-align: top;\n",
       "    }\n",
       "\n",
       "    .dataframe thead th {\n",
       "        text-align: right;\n",
       "    }\n",
       "</style>\n",
       "<table border=\"1\" class=\"dataframe\">\n",
       "  <thead>\n",
       "    <tr style=\"text-align: right;\">\n",
       "      <th></th>\n",
       "      <th>month</th>\n",
       "      <th>item</th>\n",
       "      <th>category</th>\n",
       "      <th>item_en</th>\n",
       "    </tr>\n",
       "  </thead>\n",
       "  <tbody>\n",
       "    <tr>\n",
       "      <th>0</th>\n",
       "      <td>1</td>\n",
       "      <td>菠萝</td>\n",
       "      <td>fruit</td>\n",
       "      <td>pineapple</td>\n",
       "    </tr>\n",
       "    <tr>\n",
       "      <th>1</th>\n",
       "      <td>1</td>\n",
       "      <td>甘蔗</td>\n",
       "      <td>fruit</td>\n",
       "      <td>NaN</td>\n",
       "    </tr>\n",
       "    <tr>\n",
       "      <th>2</th>\n",
       "      <td>1</td>\n",
       "      <td>砂糖橘</td>\n",
       "      <td>fruit</td>\n",
       "      <td>NaN</td>\n",
       "    </tr>\n",
       "    <tr>\n",
       "      <th>3</th>\n",
       "      <td>1</td>\n",
       "      <td>腰果</td>\n",
       "      <td>nut</td>\n",
       "      <td>NaN</td>\n",
       "    </tr>\n",
       "    <tr>\n",
       "      <th>4</th>\n",
       "      <td>1</td>\n",
       "      <td>白菜</td>\n",
       "      <td>vege</td>\n",
       "      <td>NaN</td>\n",
       "    </tr>\n",
       "  </tbody>\n",
       "</table>\n",
       "</div>"
      ],
      "text/plain": [
       "   month item category    item_en\n",
       "0      1   菠萝    fruit  pineapple\n",
       "1      1   甘蔗    fruit        NaN\n",
       "2      1  砂糖橘    fruit        NaN\n",
       "3      1   腰果      nut        NaN\n",
       "4      1   白菜     vege        NaN"
      ]
     },
     "execution_count": 7,
     "metadata": {},
     "output_type": "execute_result"
    }
   ],
   "source": [
    "bite.head()"
   ]
  },
  {
   "cell_type": "code",
   "execution_count": 9,
   "metadata": {
    "ExecuteTime": {
     "end_time": "2019-05-21T12:12:41.335378Z",
     "start_time": "2019-05-21T12:12:39.912923Z"
    }
   },
   "outputs": [
    {
     "data": {
      "text/plain": [
       "'Pinapple'"
      ]
     },
     "execution_count": 9,
     "metadata": {},
     "output_type": "execute_result"
    }
   ],
   "source": [
    "translator.translate(bite.item[0])"
   ]
  },
  {
   "cell_type": "code",
   "execution_count": 10,
   "metadata": {
    "ExecuteTime": {
     "end_time": "2019-05-21T12:12:48.222779Z",
     "start_time": "2019-05-21T12:12:48.216282Z"
    }
   },
   "outputs": [
    {
     "data": {
      "text/plain": [
       "'菠萝'"
      ]
     },
     "execution_count": 10,
     "metadata": {},
     "output_type": "execute_result"
    }
   ],
   "source": [
    "bite.item[0]"
   ]
  },
  {
   "cell_type": "code",
   "execution_count": 13,
   "metadata": {
    "ExecuteTime": {
     "end_time": "2019-05-21T12:14:25.187895Z",
     "start_time": "2019-05-21T12:14:25.183133Z"
    }
   },
   "outputs": [],
   "source": [
    "from translate import Translator\n",
    "translator = Translator(from_lang='zh', to_lang=\"en\")\n",
    "\n",
    "def Translate(string):\n",
    "    trans = translator.translate(string)\n",
    "    print(string, trans)\n",
    "    return trans"
   ]
  },
  {
   "cell_type": "code",
   "execution_count": 14,
   "metadata": {
    "ExecuteTime": {
     "end_time": "2019-05-21T12:14:27.326481Z",
     "start_time": "2019-05-21T12:14:26.238098Z"
    }
   },
   "outputs": [
    {
     "name": "stdout",
     "output_type": "stream",
     "text": [
      "菠萝 Pinapple\n"
     ]
    },
    {
     "data": {
      "text/plain": [
       "'Pinapple'"
      ]
     },
     "execution_count": 14,
     "metadata": {},
     "output_type": "execute_result"
    }
   ],
   "source": [
    "Translate(bite.item[0])"
   ]
  },
  {
   "cell_type": "code",
   "execution_count": 15,
   "metadata": {
    "ExecuteTime": {
     "end_time": "2019-05-21T12:23:05.821764Z",
     "start_time": "2019-05-21T12:14:40.557268Z"
    },
    "scrolled": true
   },
   "outputs": [
    {
     "name": "stdout",
     "output_type": "stream",
     "text": [
      "菠萝 Pinapple\n",
      "甘蔗 Sugarcane\n",
      "砂糖橘 Sugar orange\n",
      "腰果 Cashew nuts 215 000\n",
      "白菜 White Cabbage\n",
      "小白菜 Chinese cabbage#Varieties\n",
      "菠菜 baby spinach\n",
      "彩椒 Colorful pepper\n",
      "胡萝卜 Carrot\n",
      "甘蔗 Sugarcane\n",
      "柠檬 Lemon\n",
      "圣女果 RED CHERRY TOMATO\n",
      "白菜 White Cabbage\n",
      "小白菜 Chinese cabbage#Varieties\n",
      "韭菜 Allium tuberosum\n",
      "彩椒 Colorful pepper\n",
      "胡萝卜 Carrot\n",
      "春笋 Spring bamboo shoots\n",
      "腰果 Cashew nuts 215 000\n",
      "枇杷 Loquat\n",
      "柠檬 Lemon\n",
      "圣女果 RED CHERRY TOMATO\n",
      "荸荠 荸荠\n",
      "小白菜 Chinese cabbage#Varieties\n",
      "韭菜 Allium tuberosum\n",
      "彩椒 Colorful pepper\n",
      "胡萝卜 Carrot\n",
      "春笋 Spring bamboo shoots\n",
      "腰果 Cashew nuts 215 000\n",
      "枇杷 Loquat\n",
      "柠檬 Lemon\n",
      "圣女果 RED CHERRY TOMATO\n",
      "菠萝 Pinapple\n",
      "韭菜 Allium tuberosum\n",
      "彩椒 Colorful pepper\n",
      "胡萝卜 Carrot\n",
      "春笋 Spring bamboo shoots\n",
      "荸荠 荸荠\n",
      "茶树菇 Tea tree mushroom\n",
      "大葱 Allium fistulosum\n",
      "西兰花 Broccoli\n",
      "蒜苔 Garlic moss\n",
      "腰果 Cashew nuts 215 000\n",
      "菠萝 Pinapple\n",
      "草莓 Garden strawberry\n",
      "火龙果 火龙果\n",
      "荔枝 Lychee\n",
      "枇杷 Loquat\n",
      "桑葚 Mulberry\n",
      "山竹 Purple mangosteen\n",
      "樱桃 Cherry\n",
      "白萝卜 Radish\n",
      "菠菜 baby spinach\n",
      "彩椒 Colorful pepper\n",
      "春笋 Spring bamboo shoots\n",
      "茶树菇 Tea tree mushroom\n",
      "大葱 Allium fistulosum\n",
      "韭菜 Allium tuberosum\n",
      "蒜苔 Garlic moss\n",
      "土豆 Tudou\n",
      "西兰花 Broccoli\n",
      "圆白菜 cabbage\n",
      "洋葱 onion\n",
      "油菜 Canola\n",
      "蚕豆 Vicia faba\n",
      "腰果 Cashew nuts 215 000\n",
      "菠萝 Pinapple\n",
      "草莓 Garden strawberry\n",
      "黑莓 Blackberry\n",
      "火龙果 火龙果\n",
      "蓝莓 Blueberry|blueberries\n",
      "荔枝 Lychee\n",
      "榴莲 Durian\n",
      "桑葚 Mulberry\n",
      "桃 Peach\n",
      "山竹 Purple mangosteen\n",
      "杏 Almond\n",
      "西瓜 watermelon\n",
      "香瓜 muskmelons\n",
      "樱桃 Cherry\n",
      "杨梅 Myrica rubra\n",
      "椰子 Coconut\n",
      "神秘果 Mysterious fruit\n",
      "释迦果 Sakyamuni\n",
      "白萝卜 Radish\n",
      "菠菜 baby spinach\n",
      "彩椒 Colorful pepper\n",
      "茶树菇 Tea tree mushroom\n",
      "豆角 Beans\n",
      "大葱 Allium fistulosum\n",
      "大蒜 garlic\n",
      "黄瓜 Cucumber\n",
      "茄子 Eggplant\n",
      "土豆 Tudou\n",
      "西红柿 Tomato\n",
      "圆白菜 cabbage\n",
      "洋葱 onion\n",
      "油菜 Canola\n",
      "蚕豆 Vicia faba\n",
      "苹果 Apple\n",
      "菠萝 Pinapple\n",
      "黑莓 Blackberry\n",
      "火龙果 火龙果\n",
      "哈密瓜 Cantaloupe\n",
      "龙眼 Dimocarpus longan\n",
      "蓝莓 Blueberry|blueberries\n",
      "李子 Prunus salicina\n",
      "荔枝 Lychee\n",
      "榴莲 Durian\n",
      "芒果 Mango\n",
      "蟠桃 Peach\n",
      "桃 Peach\n",
      "山竹 Purple mangosteen\n",
      "杏 Almond\n",
      "西瓜 watermelon\n",
      "香瓜 muskmelons\n",
      "油桃 Nectarines\n",
      "杨梅 Myrica rubra\n",
      "杨桃 Carambola\n",
      "椰子 Coconut\n",
      "释迦果 Sakyamuni\n",
      "白菜 White Cabbage\n",
      "菠菜 baby spinach\n",
      "彩椒 Colorful pepper\n",
      "茶树菇 Tea tree mushroom\n",
      "豆角 Beans\n",
      "大葱 Allium fistulosum\n",
      "大蒜 garlic\n",
      "黄瓜 Cucumber\n",
      "南瓜 Pumpkin\n",
      "茄子 Eggplant\n",
      "土豆 Tudou\n",
      "西红柿 Tomato\n",
      "圆白菜 cabbage\n",
      "洋葱 onion\n",
      "核桃 Walnuts\n",
      "葵花子 sunflower seeds\n",
      "夏威夷果 Macadamia\n",
      "苹果 Apple\n",
      "百香果 Passiflora edulis\n",
      "黄桃 Yellow peach\n",
      "火龙果 火龙果\n",
      "哈密瓜 Cantaloupe\n",
      "龙眼 Dimocarpus longan\n",
      "蓝莓 Blueberry|blueberries\n",
      "李子 Prunus salicina\n",
      "荔枝 Lychee\n",
      "榴莲 Durian\n",
      "猕猴桃 Kiwi\n",
      "木瓜 papaya\n",
      "芒果 Mango\n",
      "葡萄 Grape\n",
      "蟠桃 Peach\n",
      "青提 Green\n",
      "桃 Peach\n",
      "沙果 Shaguo\n",
      "山竹 Purple mangosteen\n",
      "无花果 fig\n",
      "西瓜 watermelon\n",
      "油桃 Nectarines\n",
      "杨梅 Myrica rubra\n",
      "杨桃 Carambola\n",
      "椰子 Coconut\n",
      "释迦果 Sakyamuni\n",
      "白菜 White Cabbage\n",
      "菠菜 baby spinach\n",
      "豆角 Beans\n",
      "冬瓜 Winter melon\n",
      "大葱 Allium fistulosum\n",
      "大蒜 garlic\n",
      "黄瓜 Cucumber\n",
      "红薯 Sweet potato\n",
      "南瓜 Pumpkin\n",
      "茄子 Eggplant\n",
      "圆白菜 cabbage\n",
      "板栗 chestnuts\n",
      "巴旦木 Badanmu\n",
      "花生 Peanut\n",
      "核桃 Walnuts\n",
      "葵花子 sunflower seeds\n",
      "开心果 Pistachio\n",
      "夏威夷果 Macadamia\n",
      "榛子 hazelnut\n",
      "苹果 Apple\n",
      "百香果 Passiflora edulis\n",
      "菇娘 Mushroom\n",
      "红提 Red\n",
      "黄桃 Yellow peach\n",
      "海棠果 Jellyfish\n",
      "火龙果 火龙果\n",
      "哈密瓜 Cantaloupe\n",
      "龙眼 Dimocarpus longan\n",
      "蓝莓 Blueberry|blueberries\n",
      "李子 Prunus salicina\n",
      "蜜柑 Mandarin\n",
      "猕猴桃 Kiwi\n",
      "木瓜 papaya\n",
      "芒果 Mango\n",
      "葡萄 Grape\n",
      "蟠桃 Peach\n",
      "青提 Green\n",
      "蛇果 Snake fruit\n",
      "沙果 Shaguo\n",
      "柿子 persimmon\n",
      "山竹 Purple mangosteen\n",
      "石榴 pomegranate\n",
      "无花果 fig\n",
      "西柚 grapefruit\n",
      "香梨 Pear\n",
      "梨 Pear\n",
      "西瓜 watermelon\n",
      "杨桃 Carambola\n",
      "枣 Jujube\n",
      "人参果 Ginseng fruit\n",
      "释迦果 Sakyamuni\n",
      "菠菜 baby spinach\n",
      "菜花 cauliflower\n",
      "豆角 Beans\n",
      "冬瓜 Winter melon\n",
      "大辣椒 Big chili\n",
      "大蒜 garlic\n",
      "红薯 Sweet potato\n",
      "姜 Ginger\n",
      "南瓜 Pumpkin\n",
      "圆白菜 cabbage\n",
      "油菜 Canola\n",
      "板栗 chestnuts\n",
      "白果 Ginkgo biloba\n",
      "巴旦木 Badanmu\n",
      "榧子 Scorpion\n",
      "花生 Peanut\n",
      "核桃 Walnuts\n",
      "葵花子 sunflower seeds\n",
      "开心果 Pistachio\n",
      "松子 Pine nut\n",
      "夏威夷果 Macadamia\n",
      "榛子 hazelnut\n",
      "苹果 Apple\n",
      "菠萝 Pinapple\n",
      "百香果 Passiflora edulis\n",
      "橄榄 olive\n",
      "菇娘 Mushroom\n",
      "红提 Red\n",
      "海棠果 Jellyfish\n",
      "火龙果 火龙果\n",
      "金橘 Kumquat\n",
      "橘子 Tangerine\n",
      "蜜柑 Mandarin\n",
      "猕猴桃 Kiwi\n",
      "木瓜 papaya\n",
      "葡萄 Grape\n",
      "脐橙 Navel orange\n",
      "蛇果 Snake fruit\n",
      "柿子 persimmon\n",
      "山楂 Hawthorn\n",
      "石榴 pomegranate\n",
      "无花果 fig\n",
      "西柚 grapefruit\n",
      "香梨 Pear\n",
      "梨 Pear\n",
      "香蕉 Bananas\n",
      "柚子 grapefruit\n",
      "枣 Jujube\n",
      "神秘果 Mysterious fruit\n",
      "人参果 Ginseng fruit\n",
      "释迦果 Sakyamuni\n",
      "白菜 White Cabbage\n",
      "菠菜 baby spinach\n",
      "百合 lily\n",
      "菜花 cauliflower\n",
      "豆角 Beans\n",
      "冬瓜 Winter melon\n",
      "大辣椒 Big chili\n",
      "大蒜 garlic\n",
      "胡萝卜 Carrot\n",
      "红薯 Sweet potato\n",
      "姜 Ginger\n",
      "木耳 Fungus\n",
      "南瓜 Pumpkin\n",
      "土豆 Tudou\n",
      "西兰花 Broccoli\n",
      "圆白菜 cabbage\n",
      "油菜 Canola\n",
      "板栗 chestnuts\n",
      "碧根果 Pecans\n",
      "白果 Ginkgo biloba\n",
      "榧子 Scorpion\n",
      "花生 Peanut\n",
      "核桃 Walnuts\n",
      "南瓜子 pumpkin seeds\n",
      "开心果 Pistachio\n",
      "松子 Pine nut\n",
      "夏威夷果 Macadamia\n",
      "榛子 hazelnut\n",
      "苹果 Apple\n",
      "菠萝 Pinapple\n",
      "橄榄 olive\n",
      "甘蔗 Sugarcane\n",
      "菇娘 Mushroom\n",
      "海棠果 Jellyfish\n",
      "火龙果 火龙果\n",
      "金橘 Kumquat\n",
      "罗汉果 Siraitia grosvenorii\n",
      "橘子 Tangerine\n",
      "脐橙 Navel orange\n",
      "砂糖橘 Sugar orange\n",
      "蛇果 Snake fruit\n",
      "山楂 Hawthorn\n",
      "香蕉 Bananas\n",
      "柚子 grapefruit\n",
      "枣 Jujube\n",
      "人参果 Ginseng fruit\n",
      "释迦果 Sakyamuni\n",
      "白菜 White Cabbage\n",
      "菠菜 baby spinach\n",
      "百合 lily\n",
      "胡萝卜 Carrot\n",
      "红薯 Sweet potato\n",
      "姜 Ginger\n",
      "木耳 Fungus\n",
      "土豆 Tudou\n",
      "西兰花 Broccoli\n",
      "圆白菜 cabbage\n",
      "碧根果 Pecans\n",
      "榧子 Scorpion\n",
      "南瓜子 pumpkin seeds\n",
      "菠萝 Pinapple\n",
      "橄榄 olive\n",
      "甘蔗 Sugarcane\n",
      "罗汉果 Siraitia grosvenorii\n",
      "橘子 Tangerine\n",
      "砂糖橘 Sugar orange\n",
      "香蕉 Bananas\n",
      "菠菜 baby spinach\n",
      "胡萝卜 Carrot\n",
      "红薯 Sweet potato\n",
      "土豆 Tudou\n"
     ]
    }
   ],
   "source": [
    "bite['item_en'] = bite['item'].apply(Translate)"
   ]
  },
  {
   "cell_type": "code",
   "execution_count": 18,
   "metadata": {
    "ExecuteTime": {
     "end_time": "2019-05-21T12:24:08.814440Z",
     "start_time": "2019-05-21T12:24:08.799107Z"
    }
   },
   "outputs": [
    {
     "data": {
      "text/html": [
       "<div>\n",
       "<style scoped>\n",
       "    .dataframe tbody tr th:only-of-type {\n",
       "        vertical-align: middle;\n",
       "    }\n",
       "\n",
       "    .dataframe tbody tr th {\n",
       "        vertical-align: top;\n",
       "    }\n",
       "\n",
       "    .dataframe thead th {\n",
       "        text-align: right;\n",
       "    }\n",
       "</style>\n",
       "<table border=\"1\" class=\"dataframe\">\n",
       "  <thead>\n",
       "    <tr style=\"text-align: right;\">\n",
       "      <th></th>\n",
       "      <th>month</th>\n",
       "      <th>item</th>\n",
       "      <th>category</th>\n",
       "      <th>item_en</th>\n",
       "    </tr>\n",
       "  </thead>\n",
       "  <tbody>\n",
       "    <tr>\n",
       "      <th>0</th>\n",
       "      <td>1</td>\n",
       "      <td>菠萝</td>\n",
       "      <td>fruit</td>\n",
       "      <td>Pinapple</td>\n",
       "    </tr>\n",
       "    <tr>\n",
       "      <th>1</th>\n",
       "      <td>1</td>\n",
       "      <td>甘蔗</td>\n",
       "      <td>fruit</td>\n",
       "      <td>Sugarcane</td>\n",
       "    </tr>\n",
       "    <tr>\n",
       "      <th>2</th>\n",
       "      <td>1</td>\n",
       "      <td>砂糖橘</td>\n",
       "      <td>fruit</td>\n",
       "      <td>Sugar orange</td>\n",
       "    </tr>\n",
       "    <tr>\n",
       "      <th>3</th>\n",
       "      <td>1</td>\n",
       "      <td>腰果</td>\n",
       "      <td>nut</td>\n",
       "      <td>Cashew nuts 215 000</td>\n",
       "    </tr>\n",
       "    <tr>\n",
       "      <th>4</th>\n",
       "      <td>1</td>\n",
       "      <td>白菜</td>\n",
       "      <td>vege</td>\n",
       "      <td>White Cabbage</td>\n",
       "    </tr>\n",
       "  </tbody>\n",
       "</table>\n",
       "</div>"
      ],
      "text/plain": [
       "   month item category              item_en\n",
       "0      1   菠萝    fruit             Pinapple\n",
       "1      1   甘蔗    fruit            Sugarcane\n",
       "2      1  砂糖橘    fruit         Sugar orange\n",
       "3      1   腰果      nut  Cashew nuts 215 000\n",
       "4      1   白菜     vege        White Cabbage"
      ]
     },
     "execution_count": 18,
     "metadata": {},
     "output_type": "execute_result"
    }
   ],
   "source": [
    "bite.head()"
   ]
  },
  {
   "cell_type": "code",
   "execution_count": 19,
   "metadata": {
    "ExecuteTime": {
     "end_time": "2019-05-21T12:24:48.929355Z",
     "start_time": "2019-05-21T12:24:48.908610Z"
    }
   },
   "outputs": [],
   "source": [
    "bite.to_csv('/Users/ewenwang/Documents/GitHub/TiMaep/data/A_Bite_of_Season.csv', index=False)"
   ]
  },
  {
   "cell_type": "code",
   "execution_count": null,
   "metadata": {},
   "outputs": [],
   "source": []
  }
 ],
 "metadata": {
  "kernelspec": {
   "display_name": "python3.7",
   "language": "python",
   "name": "python3.7"
  },
  "language_info": {
   "codemirror_mode": {
    "name": "ipython",
    "version": 3
   },
   "file_extension": ".py",
   "mimetype": "text/x-python",
   "name": "python",
   "nbconvert_exporter": "python",
   "pygments_lexer": "ipython3",
   "version": "3.7.3"
  },
  "toc": {
   "nav_menu": {},
   "number_sections": true,
   "sideBar": true,
   "skip_h1_title": false,
   "toc_cell": false,
   "toc_position": {},
   "toc_section_display": "block",
   "toc_window_display": false
  },
  "varInspector": {
   "cols": {
    "lenName": 16,
    "lenType": 16,
    "lenVar": 40
   },
   "kernels_config": {
    "python": {
     "delete_cmd_postfix": "",
     "delete_cmd_prefix": "del ",
     "library": "var_list.py",
     "varRefreshCmd": "print(var_dic_list())"
    },
    "r": {
     "delete_cmd_postfix": ") ",
     "delete_cmd_prefix": "rm(",
     "library": "var_list.r",
     "varRefreshCmd": "cat(var_dic_list()) "
    }
   },
   "types_to_exclude": [
    "module",
    "function",
    "builtin_function_or_method",
    "instance",
    "_Feature"
   ],
   "window_display": false
  }
 },
 "nbformat": 4,
 "nbformat_minor": 2
}
